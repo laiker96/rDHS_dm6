{
 "cells": [
  {
   "cell_type": "code",
   "execution_count": 1,
   "id": "7db10f2a-217a-476c-a745-0264a8936fa4",
   "metadata": {},
   "outputs": [],
   "source": [
    "import csv\n",
    "\n",
    "desired_order = ['E5', 'E11', 'E13', 'EAD', 'HID', 'WID', 'LB', 'AB', 'O']\n",
    "desired_order_all = ['E5', 'E11', 'E13', 'EAD', 'HID', 'LIDT1', 'LIDT2', \n",
    "                     'LIDT3', 'WID', 'PAE', 'PLT2', 'LB', 'AB', 'O']\n",
    "\n",
    "def reorder(order, metadata, output_name):\n",
    "    with open(metadata, newline='') as infile, open(output_name, 'w', newline='') as outfile:\n",
    "        reader = list(csv.DictReader(infile))\n",
    "        writer = csv.DictWriter(outfile, fieldnames=reader[0].keys())\n",
    "        writer.writeheader()\n",
    "    \n",
    "        # Create a dict for fast lookup by context\n",
    "        data_dict = {row['context']: row for row in reader}\n",
    "    \n",
    "        for key in desired_order_all:\n",
    "            if key in data_dict:\n",
    "                writer.writerow(data_dict[key])\n"
   ]
  },
  {
   "cell_type": "code",
   "execution_count": 2,
   "id": "6d7bc329-7c7b-49f9-a67c-97ead5a55dde",
   "metadata": {},
   "outputs": [],
   "source": [
    "reorder(desired_order_all, 'contexts.csv', 'contexts_reorder.csv')"
   ]
  },
  {
   "cell_type": "code",
   "execution_count": null,
   "id": "7624d01c-a6e4-46e5-80ec-04ca70b790bf",
   "metadata": {},
   "outputs": [],
   "source": []
  }
 ],
 "metadata": {
  "kernelspec": {
   "display_name": "Python 3 (ipykernel)",
   "language": "python",
   "name": "python3"
  },
  "language_info": {
   "codemirror_mode": {
    "name": "ipython",
    "version": 3
   },
   "file_extension": ".py",
   "mimetype": "text/x-python",
   "name": "python",
   "nbconvert_exporter": "python",
   "pygments_lexer": "ipython3",
   "version": "3.12.3"
  }
 },
 "nbformat": 4,
 "nbformat_minor": 5
}
